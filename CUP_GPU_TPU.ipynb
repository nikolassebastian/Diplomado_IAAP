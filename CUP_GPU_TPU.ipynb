{
 "cells": [
  {
   "cell_type": "markdown",
   "metadata": {},
   "source": [
    "# Hardware para correr algoritmos de aprendizaje profundo"
   ]
  },
  {
   "cell_type": "markdown",
   "metadata": {},
   "source": [
    "Este documento se basa en el vídeo [Google Colab Tutorial 2021 Español](https://www.youtube.com/watch?v=0mOV4plF2Xo) publicado en YouTube. Allí se habla de tres formas para calcular algoritmos de aprendizaje profundo.\n",
    "\n",
    "1. **CPU**\n",
    "2. **GPU**\n",
    "3. **TPU**\n",
    "4. ***Google Colab***"
   ]
  },
  {
   "cell_type": "markdown",
   "metadata": {},
   "source": [
    "## 1. CPU"
   ]
  },
  {
   "cell_type": "markdown",
   "metadata": {},
   "source": [
    "La forma más común de calcular, o poner en práctica, algoritmos de aprendizaje profundo es usando la **ALU** (*Arithmetic Logical Unit*) de la **CPU** (*Central Proccesing Unit*) que se encuentra en los computadores. La **ALU** realiza las operaciones ariméticas necesarias para calcular los algoritmos, sin embargo, como el procesador de los computadores (**CPU**) tiene amplias funciones no está optimizado para calcular algoritmos especficos. Por lo cual, el tiempo que tarda en calcular puede ser considerable."
   ]
  },
  {
   "cell_type": "markdown",
   "metadata": {},
   "source": [
    "### Figura 1. CPU"
   ]
  },
  {
   "cell_type": "markdown",
   "metadata": {},
   "source": [
    "![cpu](cpu.jpg)"
   ]
  },
  {
   "cell_type": "markdown",
   "metadata": {},
   "source": [
    "Fuente: Imagen extraida del siguiente [link](https://medium.com/@SimeonTuoyo5/cpu-com-is-available-for-purchase-5fb17a5274bb)"
   ]
  },
  {
   "cell_type": "markdown",
   "metadata": {},
   "source": [
    "## 2. GPU"
   ]
  },
  {
   "cell_type": "markdown",
   "metadata": {},
   "source": [
    "La **GPU** (*Graphics Proccesing Unit*), muy usada por los vídeo juegos, tiene muchas más **ALU** que los procesadores, entre 2.500 y 5.000, por lo cual puede hacer más operaciones aritméticas al tiempo y eleva la velocidad de procesamiento. Por lo cual es muy útil a la hora poner en práctica los algoritomos."
   ]
  },
  {
   "cell_type": "markdown",
   "metadata": {},
   "source": [
    "### Figura 2. GPU"
   ]
  },
  {
   "cell_type": "markdown",
   "metadata": {},
   "source": [
    "![gpu](gpu.jpg)"
   ]
  },
  {
   "cell_type": "markdown",
   "metadata": {},
   "source": [
    "Fuente: Imagen extraida del siguiente [link](https://medium.com/analytics-vidhya/crux-of-gpu-28fe7d37dd28)"
   ]
  },
  {
   "cell_type": "markdown",
   "metadata": {},
   "source": [
    "## 3. TPU"
   ]
  },
  {
   "cell_type": "markdown",
   "metadata": {},
   "source": [
    "Si bien el rendimiento de la **GPU** es alto, al igual que la **CPU**, tiene amplias tareas, por lo cual su estructora no está optimizada para realizar operaciones ariméticas, más especificamente asociadas al algebral lineal, que se realizan al calcular los algoritmos. La **TPU** (*Tensor Proccesing Unit*) si está optimizada para realizar dichas operaciones, por lo cual su rendimiento es incluso superior al de la **GPU**."
   ]
  },
  {
   "cell_type": "markdown",
   "metadata": {},
   "source": [
    "### Figura 3. TPU"
   ]
  },
  {
   "cell_type": "markdown",
   "metadata": {},
   "source": [
    "![tpu](tpu.jpg)"
   ]
  },
  {
   "cell_type": "markdown",
   "metadata": {},
   "source": [
    "Fuente: Imagen extraida del siguiente [link](https://spectrum.ieee.org/tech-talk/computing/hardware/google-details-tensor-chip-powers)"
   ]
  },
  {
   "cell_type": "markdown",
   "metadata": {},
   "source": [
    "## 4. ***Google Colab***"
   ]
  },
  {
   "cell_type": "markdown",
   "metadata": {},
   "source": [
    "[*Google Colab*](https://colab.research.google.com/) es una aplicación de *Google* que permite calcular algoritmos de aprendizaje profundo en la nube. Para hacer los calculos permite realizarlo mediante una **CPU**, **GPU** o **TPU**."
   ]
  }
 ],
 "metadata": {
  "kernelspec": {
   "display_name": "Python 3",
   "language": "python",
   "name": "python3"
  },
  "language_info": {
   "codemirror_mode": {
    "name": "ipython",
    "version": 3
   },
   "file_extension": ".py",
   "mimetype": "text/x-python",
   "name": "python",
   "nbconvert_exporter": "python",
   "pygments_lexer": "ipython3",
   "version": "3.8.5"
  }
 },
 "nbformat": 4,
 "nbformat_minor": 4
}
