{
  "nbformat": 4,
  "nbformat_minor": 0,
  "metadata": {
    "colab": {
      "name": "Colab - CPU.ipynb",
      "provenance": [],
      "collapsed_sections": [],
      "toc_visible": true
    },
    "kernelspec": {
      "name": "python3",
      "display_name": "Python 3"
    }
  },
  "cells": [
    {
      "cell_type": "markdown",
      "metadata": {
        "id": "lcaK4-UEoBAw"
      },
      "source": [
        "# 1. Lectura de los datos\r\n",
        "## Lectura del set de datos (almacenado en Google Drive)"
      ]
    },
    {
      "cell_type": "code",
      "metadata": {
        "id": "-n7ufoman7cA"
      },
      "source": [
        "import numpy as np\r\n",
        "import os # Funcionalidades del sistema operativo y manipulación de directorios\r\n",
        "import gzip # Archivos .zip\r\n",
        "\r\n",
        "def load_mnist(ruta, tipo='train'):\r\n",
        "    ruta_categorias = os.path.join(ruta, '%s-labels-idx1-ubyte.gz' % tipo)\r\n",
        "    ruta_imagenes = os.path.join(ruta, '%s-images-idx3-ubyte.gz' % tipo)\r\n",
        "\r\n",
        "    with gzip.open(ruta_categorias, 'rb') as rut_cat:\r\n",
        "        etiquetas = np.frombuffer(rut_cat.read(), dtype=np.uint8, offset=8)\r\n",
        "\r\n",
        "    with gzip.open(ruta_imagenes, 'rb') as rut_imgs:\r\n",
        "        imagenes = np.frombuffer(rut_imgs.read(), dtype=np.uint8, offset=16).reshape(len(etiquetas), 784) # 28X28\r\n",
        "\r\n",
        "    return imagenes, etiquetas"
      ],
      "execution_count": 8,
      "outputs": []
    },
    {
      "cell_type": "markdown",
      "metadata": {
        "id": "zC-JiVfeoZJc"
      },
      "source": [
        "# Acceso a datos almacenados en Google Drive"
      ]
    },
    {
      "cell_type": "code",
      "metadata": {
        "id": "0lTFAe-5odK3",
        "colab": {
          "base_uri": "https://localhost:8080/"
        },
        "outputId": "f0040b39-050b-4c9d-eeea-54395571fc97"
      },
      "source": [
        "from google.colab import drive\r\n",
        "drive.mount('/content/gdrive')\r\n",
        "\r\n",
        "ruta = 'gdrive/My Drive/Diplomado/01 Semana'\r\n",
        "X_train, Y_train = load_mnist(ruta, tipo='train')\r\n",
        "X_test, Y_test = load_mnist(ruta, tipo='test')"
      ],
      "execution_count": 9,
      "outputs": [
        {
          "output_type": "stream",
          "text": [
            "Drive already mounted at /content/gdrive; to attempt to forcibly remount, call drive.mount(\"/content/gdrive\", force_remount=True).\n"
          ],
          "name": "stdout"
        }
      ]
    },
    {
      "cell_type": "markdown",
      "metadata": {
        "id": "7tmqz2cOof8d"
      },
      "source": [
        "# Reshape de los datos para garantizar que sean matrices (no vectores)"
      ]
    },
    {
      "cell_type": "code",
      "metadata": {
        "id": "kDgTEHzUojmq"
      },
      "source": [
        "# Múltiplos de 128 para TPU\r\n",
        "X_train = X_train[0:59904,:]\r\n",
        "X_test = X_test[0:9984,:]\r\n",
        "Y_train = Y_train[0:59904]\r\n",
        "Y_test = Y_test[0:9984]\r\n",
        "\r\n",
        "X_train = np.reshape(X_train,(59904,28,28,1))\r\n",
        "X_test = np.reshape(X_test,(9984,28,28,1))"
      ],
      "execution_count": 10,
      "outputs": []
    },
    {
      "cell_type": "markdown",
      "metadata": {
        "id": "VfqLBJrtomzZ"
      },
      "source": [
        "# 2. Creación del modelo con TensorFlow 2 + Keras"
      ]
    },
    {
      "cell_type": "code",
      "metadata": {
        "id": "gwJVvlMVo679",
        "colab": {
          "base_uri": "https://localhost:8080/"
        },
        "outputId": "53e4cfaf-4577-455d-9f54-e3ff19f2ca08"
      },
      "source": [
        "%tensorflow_version 2.x   # Para garantizar que la versión 2.x sea importada\r\n",
        "import tensorflow as tf\r\n",
        "print('Versión de TensorFlow: ' + tf.__version__)\r\n",
        "\r\n",
        "tf.random.set_seed(200)\r\n",
        "model = tf.keras.models.Sequential()\r\n",
        "\r\n",
        "model.add(tf.keras.layers.BatchNormalization(input_shape=X_train.shape[1:]))\r\n",
        "model.add(tf.keras.layers.Conv2D(64, (5, 5), padding='same', activation='elu'))\r\n",
        "model.add(tf.keras.layers.MaxPooling2D(pool_size=(2, 2), strides=(2,2)))\r\n",
        "model.add(tf.keras.layers.Dropout(0.25))\r\n",
        "\r\n",
        "model.add(tf.keras.layers.BatchNormalization(input_shape=X_train.shape[1:]))\r\n",
        "model.add(tf.keras.layers.Conv2D(128, (5, 5), padding='same', activation='elu'))\r\n",
        "model.add(tf.keras.layers.MaxPooling2D(pool_size=(2, 2)))\r\n",
        "model.add(tf.keras.layers.Dropout(0.25))\r\n",
        "\r\n",
        "model.add(tf.keras.layers.BatchNormalization(input_shape=X_train.shape[1:]))\r\n",
        "model.add(tf.keras.layers.Conv2D(256, (5, 5), padding='same', activation='elu'))\r\n",
        "model.add(tf.keras.layers.MaxPooling2D(pool_size=(2, 2), strides=(2,2)))\r\n",
        "model.add(tf.keras.layers.Dropout(0.25))\r\n",
        "\r\n",
        "model.add(tf.keras.layers.Flatten())\r\n",
        "model.add(tf.keras.layers.Dense(256))\r\n",
        "model.add(tf.keras.layers.Activation('elu'))\r\n",
        "model.add(tf.keras.layers.Dropout(0.5))\r\n",
        "model.add(tf.keras.layers.Dense(10))\r\n",
        "model.add(tf.keras.layers.Activation('softmax'))\r\n",
        "model.summary()\r\n",
        "\r\n",
        "model.compile(optimizer='adam',loss='sparse_categorical_crossentropy',metrics=['accuracy'])"
      ],
      "execution_count": 11,
      "outputs": [
        {
          "output_type": "stream",
          "text": [
            "`%tensorflow_version` only switches the major version: 1.x or 2.x.\n",
            "You set: `2.x   # Para garantizar que la versión 2.x sea importada`. This will be interpreted as: `2.x`.\n",
            "\n",
            "\n",
            "TensorFlow is already loaded. Please restart the runtime to change versions.\n",
            "Versión de TensorFlow: 2.4.1\n",
            "Model: \"sequential_1\"\n",
            "_________________________________________________________________\n",
            "Layer (type)                 Output Shape              Param #   \n",
            "=================================================================\n",
            "batch_normalization_3 (Batch (None, 28, 28, 1)         4         \n",
            "_________________________________________________________________\n",
            "conv2d_3 (Conv2D)            (None, 28, 28, 64)        1664      \n",
            "_________________________________________________________________\n",
            "max_pooling2d_3 (MaxPooling2 (None, 14, 14, 64)        0         \n",
            "_________________________________________________________________\n",
            "dropout_4 (Dropout)          (None, 14, 14, 64)        0         \n",
            "_________________________________________________________________\n",
            "batch_normalization_4 (Batch (None, 14, 14, 64)        256       \n",
            "_________________________________________________________________\n",
            "conv2d_4 (Conv2D)            (None, 14, 14, 128)       204928    \n",
            "_________________________________________________________________\n",
            "max_pooling2d_4 (MaxPooling2 (None, 7, 7, 128)         0         \n",
            "_________________________________________________________________\n",
            "dropout_5 (Dropout)          (None, 7, 7, 128)         0         \n",
            "_________________________________________________________________\n",
            "batch_normalization_5 (Batch (None, 7, 7, 128)         512       \n",
            "_________________________________________________________________\n",
            "conv2d_5 (Conv2D)            (None, 7, 7, 256)         819456    \n",
            "_________________________________________________________________\n",
            "max_pooling2d_5 (MaxPooling2 (None, 3, 3, 256)         0         \n",
            "_________________________________________________________________\n",
            "dropout_6 (Dropout)          (None, 3, 3, 256)         0         \n",
            "_________________________________________________________________\n",
            "flatten_1 (Flatten)          (None, 2304)              0         \n",
            "_________________________________________________________________\n",
            "dense_2 (Dense)              (None, 256)               590080    \n",
            "_________________________________________________________________\n",
            "activation_2 (Activation)    (None, 256)               0         \n",
            "_________________________________________________________________\n",
            "dropout_7 (Dropout)          (None, 256)               0         \n",
            "_________________________________________________________________\n",
            "dense_3 (Dense)              (None, 10)                2570      \n",
            "_________________________________________________________________\n",
            "activation_3 (Activation)    (None, 10)                0         \n",
            "=================================================================\n",
            "Total params: 1,619,470\n",
            "Trainable params: 1,619,084\n",
            "Non-trainable params: 386\n",
            "_________________________________________________________________\n"
          ],
          "name": "stdout"
        }
      ]
    },
    {
      "cell_type": "markdown",
      "metadata": {
        "id": "kn5V16mfo-44"
      },
      "source": [
        "# 3. Entrenamiento con CPU"
      ]
    },
    {
      "cell_type": "code",
      "metadata": {
        "id": "WGkJoaaIpCii",
        "colab": {
          "base_uri": "https://localhost:8080/"
        },
        "outputId": "ade7b1f7-e934-4f07-bbc8-39b4bdb0eb5f"
      },
      "source": [
        "import timeit\r\n",
        "\r\n",
        "def entrenamiento_cpu():\r\n",
        "  with tf.device('/cpu:0'):\r\n",
        "    model.fit(X_train,Y_train,validation_data=(X_test,Y_test),batch_size=128,epochs=2,verbose=1)\r\n",
        "  \r\n",
        "  return None\r\n",
        "\r\n",
        "cpu_time = timeit.timeit('entrenamiento_cpu()', number=1, setup='from __main__ import entrenamiento_cpu')"
      ],
      "execution_count": 6,
      "outputs": [
        {
          "output_type": "stream",
          "text": [
            "Epoch 1/2\n",
            "468/468 [==============================] - 758s 2s/step - loss: 1.0169 - accuracy: 0.7078 - val_loss: 0.4264 - val_accuracy: 0.8551\n",
            "Epoch 2/2\n",
            "468/468 [==============================] - 759s 2s/step - loss: 0.4105 - accuracy: 0.8562 - val_loss: 0.3127 - val_accuracy: 0.8922\n"
          ],
          "name": "stdout"
        }
      ]
    },
    {
      "cell_type": "code",
      "metadata": {
        "id": "x4zFZeY9pGKm",
        "colab": {
          "base_uri": "https://localhost:8080/"
        },
        "outputId": "efca639e-76f3-40be-b405-33b0d7102e0e"
      },
      "source": [
        "print('Tiempo de entrenamiento: ' + str(cpu_time) + ' segundos')"
      ],
      "execution_count": 7,
      "outputs": [
        {
          "output_type": "stream",
          "text": [
            "Tiempo de entrenamiento: 1517.125986595 segundos\n"
          ],
          "name": "stdout"
        }
      ]
    }
  ]
}